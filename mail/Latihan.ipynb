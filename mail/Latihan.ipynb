{
 "cells": [
  {
   "cell_type": "code",
   "execution_count": null,
   "metadata": {},
   "outputs": [],
   "source": [
    "# Import library yang diperlukan\n",
    "import argparse\n",
    "import getpass\n",
    "import imaplib\n",
    "import poplib"
   ]
  },
  {
   "cell_type": "code",
   "execution_count": null,
   "metadata": {},
   "outputs": [],
   "source": [
    "def imap_mail(username):\n",
    "    # Tulis kode program dari sini\n",
    "     try:\n",
    "        IMAP_SERVER = 'outlook.office365.com'\n",
    "        IMAP_PORT = 993\n",
    "\n",
    "        mailbox = imaplib.IMAP4_SSL(IMAP_SERVER, IMAP_PORT) \n",
    "        password = getpass.getpass(prompt='Enter Email Password: ') \n",
    "        mailbox.login(username, password)\n",
    "        mailbox.select('Inbox')\n",
    "        typ, data = mailbox.search(None, 'ALL')\n",
    "        for num in data[0].split():\n",
    "            typ, data = mailbox.fetch(num, '(RFC822)')\n",
    "            print ('Message %s\\n%s\\n' % (num, data[0][1]))\n",
    "            break\n",
    "        mailbox.close()\n",
    "        mailbox.logout()\n",
    "        # Implementasikan Error-handling \n",
    "        except:\n",
    "        print('USERNAME / PASSWORD NOT CORRECT!')\n",
    "    # Sampai di sini\n",
    "    \n",
    "def pop_mail(username):\n",
    "    # Tulis kode program dari sini \n",
    "        try:\n",
    "        POP_SERVER = 'outlook.office365.com'\n",
    "        POP_PORT = 995\n",
    "\n",
    "        mailbox = poplib.POP3_SSL(POP_SERVER, POP_PORT) \n",
    "        mailbox.user(username)\n",
    "        password = getpass.getpass(prompt='Enter your email password: ') \n",
    "        mailbox.pass_(password)\n",
    "        num_messages = len(mailbox.list()[1])\n",
    "        print ('Total emails: {}'.format(num_messages))\n",
    "        mailbox.quit()\n",
    "        # Implementasikan Error-handling\n",
    "         except:\n",
    "        print('USERNAME / PASSWORD NOT CORRECT!')\n",
    "    # Sampai di sini"
   ]
  },
  {
   "cell_type": "markdown",
   "metadata": {},
   "source": [
    "Buatlah sebuah fungsi yang dapat menggabungkan fungsionalitas fungsi `imap_mail()` dan `pop_mail()`"
   ]
  },
  {
   "cell_type": "code",
   "execution_count": null,
   "metadata": {},
   "outputs": [],
   "source": [
    "def mail(username, protocol, host, port):\n",
    "    # Tulis kode program dari sini \n",
    "    print('1. IMAP')\n",
    "    print('2. POP3')\n",
    "    option = int(input('Choose Protocol : '))\n",
    "    if(option == 1):\n",
    "        imap_mail('170010254@stikom-bali.ac.id')\n",
    "    elif(option == 2):\n",
    "        pop_mail('170010254@stikom-bali.ac.id')\n",
    "        # Implementasikan Error-handling\n",
    "        else:\n",
    "        print('INCORRECT OPTION!')\n",
    "    # Sampai di sini"
   ]
  },
  {
   "cell_type": "markdown",
   "metadata": {},
   "source": [
    "Panggil fungsi `mail()` di bawah ini:"
   ]
  },
  {
   "cell_type": "code",
   "execution_count": null,
   "metadata": {},
   "outputs": [],
   "source": [
    "if __name__ == '__main__':\n",
    "    mail()"
   ]
  }
 ],
 "metadata": {
  "kernelspec": {
   "display_name": "Python 3",
   "language": "python",
   "name": "python3"
  },
  "language_info": {
   "codemirror_mode": {
    "name": "ipython",
    "version": 3
   },
   "file_extension": ".py",
   "mimetype": "text/x-python",
   "name": "python",
   "nbconvert_exporter": "python",
   "pygments_lexer": "ipython3",
   "version": "3.6.9"
  }
 },
 "nbformat": 4,
 "nbformat_minor": 4
}